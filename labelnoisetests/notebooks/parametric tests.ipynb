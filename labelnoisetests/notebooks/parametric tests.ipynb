{
 "cells": [
  {
   "cell_type": "code",
   "execution_count": 5,
   "metadata": {},
   "outputs": [],
   "source": [
    "import numpy as np\n",
    "import pandas as pd\n",
    "from sklearn.linear_model import LogisticRegression\n",
    "\n",
    "import matplotlib.pyplot as plt\n",
    "import seaborn as sns; sns.set()\n",
    "\n",
    "import itertools as it\n",
    "from collections import defaultdict\n",
    "\n",
    "from scipy.stats import norm, zscore, multivariate_normal\n",
    "\n",
    "from pprint import pprint\n",
    "from sklearn.preprocessing import StandardScaler\n",
    "\n",
    "from copy import deepcopy"
   ]
  },
  {
   "cell_type": "code",
   "execution_count": 2,
   "metadata": {},
   "outputs": [],
   "source": [
    "def get_data(n, d=1, gamma=1):\n",
    "    mean0 = np.array([d, d])\n",
    "    mean1 = np.array([-d, -d])\n",
    "    cov = gamma*np.eye(2)\n",
    "    \n",
    "    x0 = np.random.multivariate_normal(\n",
    "        mean0, cov, n//2\n",
    "    )\n",
    "    \n",
    "    x1 = np.random.multivariate_normal(\n",
    "        mean1, cov, n//2\n",
    "    )\n",
    "    \n",
    "    X = np.concatenate((x0, x1), axis=0)\n",
    "    \n",
    "    y = np.ones((n, ))\n",
    "    y[:n//2] = 0\n",
    "    \n",
    "    def optimum_classifier(z):\n",
    "        c0 = multivariate_normal(mean0, cov).pdf(z)\n",
    "        c1 = multivariate_normal(mean1, cov).pdf(z)\n",
    "        return c0/(c0+c1)\n",
    "    \n",
    "    return X, y, optimum_classifier, mean0-mean1"
   ]
  },
  {
   "cell_type": "code",
   "execution_count": 4,
   "metadata": {},
   "outputs": [],
   "source": [
    "def prettyfloat(x, precision=4):\n",
    "    return np.round(x, precision)\n",
    "\n",
    "def get_pvalue(x, mean, scale):\n",
    "    z = (x - mean)/scale\n",
    "    cdf = norm(0, 1).cdf(z)[0]\n",
    "    if z > 0:\n",
    "        pvalue = 1 - cdf\n",
    "    else:\n",
    "        pvalue = cdf\n",
    "    return 2*pvalue"
   ]
  },
  {
   "cell_type": "code",
   "execution_count": 16,
   "metadata": {},
   "outputs": [],
   "source": [
    "def parametric_test(\n",
    "    X: np.ndarray,        # (n_samples, n_features)\n",
    "    y: np.ndarray,        # (n_samples, )\n",
    "    anchors: np.ndarray   # (n_anchors, n_features)\n",
    "):\n",
    "    n_samples, n_features = X.shape\n",
    "    n_anchors = anchors.shape[0]\n",
    "    \n",
    "    nx = np.concatenate((np.ones((n_samples, 1)), X), axis=1)\n",
    "    nanchors = np.concatenate((np.ones((n_anchors, 1)), anchors), axis=1)\n",
    "    \n",
    "    clf = LogisticRegression(\n",
    "        fit_intercept=False,\n",
    "        C=1e5,\n",
    "        tol=1e-6,\n",
    "        max_iter=int(1e5)\n",
    "    ).fit(nx, y)\n",
    "    \n",
    "    xpreds = clf.predict_proba(nx)\n",
    "    anchorpreds = clf.predict_proba(nanchors)[:, 1]\n",
    "    \n",
    "    D = np.diag(xpreds[:, 0]*xpreds[:, 1])\n",
    "    \n",
    "    # inverse of variance of \\beta\n",
    "    # https://imai.fas.harvard.edu/teaching/files/mle.pdf -- p17\n",
    "    V = nx.T @ D @ nx\n",
    "\n",
    "    # variance of \\beta\n",
    "    Q=np.linalg.inv(V)\n",
    "    \n",
    "    # All at once: see eq. 15\n",
    "    mean_anchor = nanchors.mean(axis=0).reshape(-1, 1)\n",
    "    mean_anchor_pred = anchorpreds.mean(axis=0)\n",
    "\n",
    "    omega = mean_anchor.T @ Q @ mean_anchor\n",
    "    scale = np.sqrt(omega)[0] / 4\n",
    "    pvalue = get_pvalue(mean_anchor_pred, 0.50, scale)\n",
    "    \n",
    "    return pvalue"
   ]
  }
 ],
 "metadata": {
  "kernelspec": {
   "display_name": "Python 3.7.6 64-bit ('base': conda)",
   "language": "python",
   "name": "python37664bitbasecondae3beb664b9fa48979a7c623f46cee3b6"
  },
  "language_info": {
   "codemirror_mode": {
    "name": "ipython",
    "version": 3
   },
   "file_extension": ".py",
   "mimetype": "text/x-python",
   "name": "python",
   "nbconvert_exporter": "python",
   "pygments_lexer": "ipython3",
   "version": "3.7.10"
  }
 },
 "nbformat": 4,
 "nbformat_minor": 4
}
