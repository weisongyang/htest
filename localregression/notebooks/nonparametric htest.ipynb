{
 "cells": [
  {
   "cell_type": "code",
   "execution_count": 1,
   "metadata": {},
   "outputs": [],
   "source": [
    "import numpy as onp\n",
    "import jax.numpy as np\n",
    "\n",
    "import matplotlib.pyplot as plt\n",
    "import seaborn as sns; sns.set()\n",
    "sns.set_style(\"whitegrid\")\n",
    "plt.rc(\"axes.spines\", top=False, right=False)\n",
    "sns.set_context(\"paper\")\n",
    "\n",
    "from sklearn.preprocessing import PolynomialFeatures\n",
    "from scipy.stats import multivariate_normal\n",
    "\n",
    "from copy import deepcopy\n",
    "\n",
    "from jax.scipy.stats import multivariate_normal as mvn\n",
    "from jax import jit, vmap, random, grad\n",
    "\n",
    "from locreg import LocalRegression\n",
    "from locreg import BootstrapLocalRegression\n",
    "from locreg.main import gridsearch_fn\n",
    "from locreg.supp import get_inv_infmat_m\n",
    "from noisetests import nonparametric_test\n",
    "\n",
    "from sklearn.model_selection import LeaveOneOut, GridSearchCV\n",
    "from sklearn.linear_model import LogisticRegression\n",
    "from typing import Callable\n",
    "\n"
   ]
  },
  {
   "cell_type": "code",
   "execution_count": 2,
   "metadata": {},
   "outputs": [],
   "source": [
    "from scipy.stats import norm\n",
    "\n",
    "def get_pvalue(x, mean, scale):\n",
    "    z = (x - mean)/scale\n",
    "    cdf = norm(0, 1).cdf(z)\n",
    "    if z > 0:\n",
    "        pvalue = 1 - cdf\n",
    "    else:\n",
    "        pvalue = cdf\n",
    "    return 2*pvalue"
   ]
  },
  {
   "cell_type": "code",
   "execution_count": 3,
   "metadata": {},
   "outputs": [],
   "source": [
    "import matplotlib as mpl\n",
    "\n",
    "from jax.scipy.stats import multivariate_normal as mvn\n",
    "\n",
    "def get_data_xor(n, d=1, gamma=1):\n",
    "    mean0 = np.array([d, d])\n",
    "    mean1 = np.array([-d, -d])\n",
    "    mean2 = np.array([d, -d])\n",
    "    mean3 = np.array([-d, d])\n",
    "    \n",
    "    cov = gamma*np.eye(2)\n",
    "    \n",
    "    x0 = onp.random.multivariate_normal(\n",
    "        mean0, cov, n//4\n",
    "    )\n",
    "    \n",
    "    x1 = onp.random.multivariate_normal(\n",
    "        mean1, cov, n//4\n",
    "    )\n",
    "    \n",
    "    x2 = onp.random.multivariate_normal(\n",
    "        mean2, cov, n//4\n",
    "    )\n",
    "    \n",
    "    x3 = onp.random.multivariate_normal(\n",
    "        mean3, cov, n//4\n",
    "    )\n",
    "    \n",
    "    X = np.concatenate((x0, x1, x2, x3), axis=0)\n",
    "#     X[:, 0] += 3\n",
    "    \n",
    "    y = onp.ones((n, ))\n",
    "    y[:n//2] = 0\n",
    "    \n",
    "    def optimum_classifier(z):\n",
    "        c0 = mvn.pdf(z, mean0, cov)\n",
    "        c1 = mvn.pdf(z, mean1, cov)\n",
    "        c2 = mvn.pdf(z, mean2, cov)\n",
    "        c3 = mvn.pdf(z, mean3, cov)\n",
    "        return (c0+c1)/(c0+c1+c2+c3)\n",
    "    \n",
    "    return X, y, optimum_classifier, mean0-mean1\n",
    "\n",
    "\n",
    "def plot_decision_boundary(clf, X, ax, mode='llr'):\n",
    "    resolution=0.20\n",
    "    extra = 0.25\n",
    "    x1_min, x1_max = X[:, 0].min() - extra, X[:, 0].max() + extra\n",
    "    x2_min, x2_max = X[:, 1].min() - extra, X[:, 1].max() + extra\n",
    "    xx1, xx2 = np.meshgrid(np.arange(x1_min, x1_max, resolution),\n",
    "                           np.arange(x2_min, x2_max, resolution))\n",
    "    \n",
    "    newx = np.array([xx1.ravel(), xx2.ravel()]).T\n",
    "    \n",
    "    if mode == 'llr':\n",
    "        Z = clf.predict(newx)[:, 1]\n",
    "    elif mode == 'bclf':\n",
    "        Z = clf(newx)\n",
    "        \n",
    "    Z = Z.reshape(xx1.shape)\n",
    "    \n",
    "    cmap = mpl.cm.Spectral\n",
    "    norm = mpl.colors.Normalize(vmin=0, vmax=1)\n",
    "    \n",
    "    v=ax.contourf(xx1, xx2, Z, alpha=0.3, cmap=cmap)\n",
    "\n",
    "#     fig.colorbar(,\n",
    "#              cax=ax, orientation='horizontal', label='Some Units')\n",
    "    \n",
    "    ax.set_xlim(xx1.min(), xx1.max())\n",
    "    ax.set_ylim(xx2.min(), xx2.max())\n",
    "\n",
    "    ax.set_xlim(-4, 4)\n",
    "    ax.set_ylim(-4, 4)\n",
    "\n",
    "    return v, ax"
   ]
  },
  {
   "cell_type": "code",
   "execution_count": 4,
   "metadata": {},
   "outputs": [],
   "source": [
    "def add_noise(y, alpha, beta):\n",
    "    ytilde = deepcopy(y)\n",
    "    n = len(y)\n",
    "    hn = n//2\n",
    "    pos = np.where(y == 1)[0]\n",
    "    \n",
    "    # It is not exactly the true noise model - but shouldn't make a difference\n",
    "    pos_sample = np.random.choice(hn, int(alpha*hn))\n",
    "    \n",
    "    neg = np.where(y == 0)[0]\n",
    "    neg_sample = np.random.choice(hn, int(beta*hn))\n",
    "    \n",
    "    ytilde[pos[pos_sample]] = 0\n",
    "    ytilde[neg[neg_sample]] = 1\n",
    "    \n",
    "    return ytilde"
   ]
  },
  {
   "cell_type": "code",
   "execution_count": 5,
   "metadata": {},
   "outputs": [],
   "source": [
    "def prettyfloat(x, precision=4):\n",
    "    return np.round(x, precision)\n",
    "\n",
    "def _logistic(z):\n",
    "    return 1/(1+np.exp(-z))"
   ]
  },
  {
   "cell_type": "code",
   "execution_count": 6,
   "metadata": {},
   "outputs": [
    {
     "name": "stderr",
     "output_type": "stream",
     "text": [
      "WARNING:absl:No GPU/TPU found, falling back to CPU. (Set TF_CPP_MIN_LOG_LEVEL=0 and rerun for more info.)\n"
     ]
    }
   ],
   "source": [
    "X, y, bclf, *_ = get_data_xor(100, d=2)"
   ]
  },
  {
   "cell_type": "code",
   "execution_count": 7,
   "metadata": {},
   "outputs": [],
   "source": [
    "# clf = llr().fit(X, y)"
   ]
  },
  {
   "cell_type": "code",
   "execution_count": 8,
   "metadata": {},
   "outputs": [],
   "source": [
    "# preds=clf.predict(X)"
   ]
  },
  {
   "cell_type": "code",
   "execution_count": 9,
   "metadata": {},
   "outputs": [],
   "source": [
    "# import pickle as pkl\n",
    "# sd = clf.state_dict()\n",
    "# with open('sd_test.pkl', 'wb') as f:\n",
    "#     pkl.dump(sd, f)"
   ]
  },
  {
   "cell_type": "code",
   "execution_count": 10,
   "metadata": {},
   "outputs": [],
   "source": [
    "# with open('sd_test.pkl', 'rb') as f:\n",
    "#     nsd = pkl.load(f)\n",
    "# clf2 = llr().load_state_dict(nsd)"
   ]
  },
  {
   "cell_type": "code",
   "execution_count": 11,
   "metadata": {},
   "outputs": [],
   "source": [
    "# preds2=clf2.predict(X)"
   ]
  },
  {
   "cell_type": "code",
   "execution_count": 12,
   "metadata": {},
   "outputs": [],
   "source": [
    "# np.array_equal(preds, preds2)"
   ]
  },
  {
   "cell_type": "code",
   "execution_count": 13,
   "metadata": {},
   "outputs": [],
   "source": [
    "# clf = bllr(n_estimators=5).fit(X, y)"
   ]
  },
  {
   "cell_type": "code",
   "execution_count": 14,
   "metadata": {},
   "outputs": [],
   "source": [
    "# preds=clf.predict(X)"
   ]
  },
  {
   "cell_type": "code",
   "execution_count": 15,
   "metadata": {},
   "outputs": [],
   "source": [
    "# import pickle as pkl\n",
    "# sd = clf.state_dict()\n",
    "# with open('sd_test.pkl', 'wb') as f:\n",
    "#     pkl.dump(sd, f)"
   ]
  },
  {
   "cell_type": "code",
   "execution_count": 16,
   "metadata": {},
   "outputs": [],
   "source": [
    "# with open('sd_test.pkl', 'rb') as f:\n",
    "#     nsd = pkl.load(f)\n",
    "# clf2 = bllr().load_state_dict(nsd)"
   ]
  },
  {
   "cell_type": "code",
   "execution_count": 17,
   "metadata": {},
   "outputs": [],
   "source": [
    "# preds2=clf2.predict(X)"
   ]
  },
  {
   "cell_type": "code",
   "execution_count": 18,
   "metadata": {},
   "outputs": [],
   "source": [
    "# np.array_equal(preds, preds2)"
   ]
  },
  {
   "cell_type": "code",
   "execution_count": 19,
   "metadata": {},
   "outputs": [],
   "source": [
    "# param_grid = {\n",
    "#     'bandwidth': [0.10, 0.50, 0.75]\n",
    "# }\n",
    "\n",
    "# gridsearch = gridsearch_help(X, y, param_grid=param_grid)"
   ]
  },
  {
   "cell_type": "code",
   "execution_count": 20,
   "metadata": {},
   "outputs": [],
   "source": [
    "# clf = gridsearch.best_estimator_"
   ]
  },
  {
   "cell_type": "code",
   "execution_count": 21,
   "metadata": {},
   "outputs": [],
   "source": [
    "# clf = bllr(n_estimators=1, kernel_kwargs_grid={'bandwidth': [0.10, 0.20, 0.50]}).fit(X, y)"
   ]
  },
  {
   "cell_type": "code",
   "execution_count": 22,
   "metadata": {},
   "outputs": [],
   "source": [
    "\n",
    "# def nonparametric_test(clf, anchors, invtype):\n",
    "#     n_anchors = len(anchors)\n",
    "#     _omegas_sum = 0\n",
    "#     _preds_sum = 0\n",
    "#     js = []\n",
    "#     var = 0.\n",
    "#     for anchor in anchors:\n",
    "#         mdl = clf.predict(anchor, return_models=True)\n",
    "\n",
    "#         valid=True\n",
    "#         try:\n",
    "#             invj1, hj2, single_var, pred = get_inv_infmat_m(mdl[0], invtype=invtype)\n",
    "#         except AssertionError as err:\n",
    "#             # print(err)\n",
    "#             print(cf)\n",
    "#             print(modelid)\n",
    "#             valid=False\n",
    "#             break\n",
    "\n",
    "#         js.append([invj1, hj2])\n",
    "\n",
    "#         _preds_sum += pred[0][0]\n",
    "#         assert single_var >= 0, print(single_var)\n",
    "\n",
    "#         var += single_var\n",
    "\n",
    "#     if valid:\n",
    "#         if invtype in [22, 222]:\n",
    "#             for ii in range(n_anchors):\n",
    "#                 invj1_0, hj2_0 = js[ii]\n",
    "#                 for jj in range(ii+1, n_anchors):\n",
    "#                     invj1_1, hj2_1 = js[jj]\n",
    "#                     cvar = 2 * (invj1_0 @ hj2_0 @ hj2_1.T @ invj1_1.T)[0, 0]\n",
    "#                     # assert cvar > 0, print(cvar)\n",
    "#                     var += cvar\n",
    "\n",
    "#         scale = np.sqrt(var) / 4\n",
    "#         scale = scale / n_anchors\n",
    "#         pvalue = get_pvalue(_preds_sum/n_anchors, 0.50, scale)\n",
    "\n",
    "#     return pvalue"
   ]
  },
  {
   "cell_type": "code",
   "execution_count": 23,
   "metadata": {},
   "outputs": [],
   "source": [
    "def getcfs(n):\n",
    "    cfs = []\n",
    "    for ii in range(n):\n",
    "        xx = onp.array([[0, 0.]])\n",
    "        idx = onp.random.choice(2)\n",
    "        loc = onp.random.choice(2)\n",
    "        xx[0, idx] = onp.random.uniform(-4, 4)\n",
    "        cfs.append(np.array(xx))\n",
    "    return cfs\n",
    "\n",
    "cfs = getcfs(4)"
   ]
  },
  {
   "cell_type": "code",
   "execution_count": 24,
   "metadata": {},
   "outputs": [],
   "source": [
    "param_grid = {\n",
    "    'bandwidth': [0.10, 0.20, 0.50]\n",
    "}\n",
    "\n",
    "gridsearch = gridsearch_fn(X, y, param_grid=param_grid, n_instances=-1)\n",
    "mdl = gridsearch.best_estimator_\n",
    "\n",
    "p = nonparametric_test(mdl, cfs, 22)"
   ]
  },
  {
   "cell_type": "code",
   "execution_count": null,
   "metadata": {},
   "outputs": [],
   "source": []
  },
  {
   "cell_type": "code",
   "execution_count": null,
   "metadata": {},
   "outputs": [],
   "source": []
  },
  {
   "cell_type": "code",
   "execution_count": null,
   "metadata": {},
   "outputs": [],
   "source": []
  },
  {
   "cell_type": "code",
   "execution_count": 35,
   "metadata": {},
   "outputs": [],
   "source": [
    "import pickle as pkl\n",
    "sd = mdl.state_dict()\n",
    "with open('sd_test.pkl', 'wb') as f:\n",
    "    pkl.dump(sd, f)"
   ]
  },
  {
   "cell_type": "code",
   "execution_count": 36,
   "metadata": {},
   "outputs": [],
   "source": [
    "with open('sd_test.pkl', 'rb') as f:\n",
    "    nsd = pkl.load(f)\n",
    "clf2 = LocalRegression().load_state_dict(nsd)"
   ]
  },
  {
   "cell_type": "code",
   "execution_count": 37,
   "metadata": {},
   "outputs": [],
   "source": [
    "\n",
    "p = nonparametric_test(clf2, cfs, 22)"
   ]
  },
  {
   "cell_type": "code",
   "execution_count": 28,
   "metadata": {},
   "outputs": [],
   "source": [
    "# s0 = set(mdl.__dir__())\n",
    "# s1 = set(clf2.__dir__())"
   ]
  },
  {
   "cell_type": "code",
   "execution_count": 29,
   "metadata": {},
   "outputs": [],
   "source": [
    "# p0 = mdl.predict(X)"
   ]
  },
  {
   "cell_type": "code",
   "execution_count": 30,
   "metadata": {},
   "outputs": [],
   "source": [
    "# p1 = clf2.predict(X)"
   ]
  },
  {
   "cell_type": "code",
   "execution_count": 31,
   "metadata": {},
   "outputs": [],
   "source": [
    "# p0 == p1"
   ]
  }
 ],
 "metadata": {
  "kernelspec": {
   "display_name": "Python 3.7.6 64-bit ('base': conda)",
   "language": "python",
   "name": "python37664bitbasecondae3beb664b9fa48979a7c623f46cee3b6"
  },
  "language_info": {
   "codemirror_mode": {
    "name": "ipython",
    "version": 3
   },
   "file_extension": ".py",
   "mimetype": "text/x-python",
   "name": "python",
   "nbconvert_exporter": "python",
   "pygments_lexer": "ipython3",
   "version": "3.7.10"
  }
 },
 "nbformat": 4,
 "nbformat_minor": 4
}
